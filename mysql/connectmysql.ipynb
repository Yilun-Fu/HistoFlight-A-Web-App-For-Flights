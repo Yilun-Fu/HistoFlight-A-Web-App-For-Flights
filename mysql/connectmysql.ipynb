{
 "cells": [
  {
   "cell_type": "code",
   "execution_count": 1,
   "metadata": {},
   "outputs": [],
   "source": [
    "import pandas as pd\n",
    "import numpy as np"
   ]
  },
  {
   "cell_type": "code",
   "execution_count": null,
   "metadata": {},
   "outputs": [],
   "source": [
    "!curl ipecho.net/plain"
   ]
  },
  {
   "cell_type": "markdown",
   "metadata": {},
   "source": [
    "### Connect to Mysql"
   ]
  },
  {
   "cell_type": "code",
   "execution_count": 2,
   "metadata": {},
   "outputs": [],
   "source": [
    "from pymysql import Connection\n",
    "conn = Connection(\n",
    "    host = '34.67.249.196',\n",
    "    user = 'root',\n",
    "    password = 'cs411047',\n",
    ")\n",
    "# print(conn.get_server_info)\n",
    "# conn.close()"
   ]
  },
  {
   "cell_type": "code",
   "execution_count": 3,
   "metadata": {},
   "outputs": [],
   "source": [
    "# use cursor and select database\n",
    "cursor = conn.cursor()\n",
    "conn.select_db(\"project\")"
   ]
  },
  {
   "cell_type": "markdown",
   "metadata": {},
   "source": [
    "### Create tables"
   ]
  },
  {
   "cell_type": "code",
   "execution_count": 16,
   "metadata": {},
   "outputs": [
    {
     "data": {
      "text/plain": [
       "3"
      ]
     },
     "execution_count": 16,
     "metadata": {},
     "output_type": "execute_result"
    }
   ],
   "source": [
    "cursor.execute('DROP TABLE IF EXISTS Airport')\n",
    "cursor.execute('show tables')"
   ]
  },
  {
   "cell_type": "code",
   "execution_count": 17,
   "metadata": {},
   "outputs": [
    {
     "data": {
      "text/plain": [
       "0"
      ]
     },
     "execution_count": 17,
     "metadata": {},
     "output_type": "execute_result"
    }
   ],
   "source": [
    "# create table Airport\n",
    "sql_tb_airport = '''CREATE TABLE Airport (\n",
    "    IATA VARCHAR(10) PRIMARY KEY,   \n",
    "    airport_name VARCHAR(50)\n",
    ")'''\n",
    "cursor.execute(sql_tb_airport)  "
   ]
  },
  {
   "cell_type": "code",
   "execution_count": 6,
   "metadata": {},
   "outputs": [
    {
     "data": {
      "text/plain": [
       "0"
      ]
     },
     "execution_count": 6,
     "metadata": {},
     "output_type": "execute_result"
    }
   ],
   "source": [
    "cursor.execute('DROP TABLE IF EXISTS Airline')\n",
    "cursor.execute('show tables')"
   ]
  },
  {
   "cell_type": "code",
   "execution_count": 7,
   "metadata": {},
   "outputs": [
    {
     "data": {
      "text/plain": [
       "0"
      ]
     },
     "execution_count": 7,
     "metadata": {},
     "output_type": "execute_result"
    }
   ],
   "source": [
    "# create table Airline\n",
    "sql_tb_airline = '''create table Airline(\n",
    "    IATA            varchar(10) primary key,\n",
    "    airline_name    varchar(100)\n",
    ")'''\n",
    "cursor.execute(sql_tb_airline)              "
   ]
  },
  {
   "cell_type": "code",
   "execution_count": 4,
   "metadata": {},
   "outputs": [
    {
     "data": {
      "text/plain": [
       "1"
      ]
     },
     "execution_count": 4,
     "metadata": {},
     "output_type": "execute_result"
    }
   ],
   "source": [
    "cursor.execute('DROP TABLE IF EXISTS Comment')\n",
    "cursor.execute('show tables')"
   ]
  },
  {
   "cell_type": "code",
   "execution_count": 12,
   "metadata": {},
   "outputs": [
    {
     "data": {
      "text/plain": [
       "0"
      ]
     },
     "execution_count": 12,
     "metadata": {},
     "output_type": "execute_result"
    }
   ],
   "source": [
    "# create table Comment\n",
    "sql_tb_Comment  = '''create table Comment(\n",
    "    comment_id INTEGER PRIMARY KEY,\n",
    "    text TEXT,\n",
    "    user_name VARCHAR(100) NOT NULL,\n",
    "    airline VARCHAR(100) NOT NULL,\n",
    "    FOREIGN KEY (user_name) REFERENCES User(user_name) ON DELETE CASCADE,\n",
    "    FOREIGN KEY (airline) REFERENCES Airline(IATA) ON DELETE CASCADE\n",
    "\n",
    ")'''\n",
    "cursor.execute(sql_tb_Comment)"
   ]
  },
  {
   "cell_type": "code",
   "execution_count": 8,
   "metadata": {},
   "outputs": [
    {
     "data": {
      "text/plain": [
       "1"
      ]
     },
     "execution_count": 8,
     "metadata": {},
     "output_type": "execute_result"
    }
   ],
   "source": [
    "cursor.execute('DROP TABLE IF EXISTS User')\n",
    "cursor.execute('show tables')"
   ]
  },
  {
   "cell_type": "code",
   "execution_count": 9,
   "metadata": {},
   "outputs": [
    {
     "data": {
      "text/plain": [
       "0"
      ]
     },
     "execution_count": 9,
     "metadata": {},
     "output_type": "execute_result"
    }
   ],
   "source": [
    "# create table User\n",
    "sql_tb_user  = '''CREATE TABLE User (\n",
    "    user_name VARCHAR(100) PRIMARY KEY,\n",
    "    password VARCHAR(100) NOT NULL,\n",
    "    email VARCHAR(100),\n",
    "    first_name VARCHAR(50),\n",
    "    last_name VARCHAR(50)\n",
    ")'''\n",
    "cursor.execute(sql_tb_user)"
   ]
  },
  {
   "cell_type": "code",
   "execution_count": 10,
   "metadata": {},
   "outputs": [
    {
     "data": {
      "text/plain": [
       "2"
      ]
     },
     "execution_count": 10,
     "metadata": {},
     "output_type": "execute_result"
    }
   ],
   "source": [
    "cursor.execute('show tables')"
   ]
  },
  {
   "cell_type": "code",
   "execution_count": 63,
   "metadata": {},
   "outputs": [
    {
     "data": {
      "text/plain": [
       "6"
      ]
     },
     "execution_count": 63,
     "metadata": {},
     "output_type": "execute_result"
    }
   ],
   "source": [
    "cursor.execute('DROP TABLE IF EXISTS Ticket')\n",
    "cursor.execute('show tables')"
   ]
  },
  {
   "cell_type": "code",
   "execution_count": 66,
   "metadata": {},
   "outputs": [
    {
     "data": {
      "text/plain": [
       "0"
      ]
     },
     "execution_count": 66,
     "metadata": {},
     "output_type": "execute_result"
    }
   ],
   "source": [
    "# create table Ticket\n",
    "sql_tb_ticket  = '''\n",
    "    CREATE TABLE Ticket (\n",
    "    ticket_id VARCHAR(64) PRIMARY KEY,\n",
    "    flight_id VARCHAR(64) NOT NULL,\n",
    "    purchase_date DATE,\n",
    "    CLASS VARCHAR(50),\n",
    "    PRICE REAL,\n",
    "    FOREIGN KEY (flight_id) REFERENCES Flight(flight_id) ON DELETE CASCADE\n",
    ")'''\n",
    "cursor.execute(sql_tb_ticket)"
   ]
  },
  {
   "cell_type": "code",
   "execution_count": 64,
   "metadata": {},
   "outputs": [
    {
     "data": {
      "text/plain": [
       "5"
      ]
     },
     "execution_count": 64,
     "metadata": {},
     "output_type": "execute_result"
    }
   ],
   "source": [
    "cursor.execute('DROP TABLE IF EXISTS Flight')\n",
    "cursor.execute('show tables')"
   ]
  },
  {
   "cell_type": "code",
   "execution_count": 65,
   "metadata": {},
   "outputs": [
    {
     "data": {
      "text/plain": [
       "0"
      ]
     },
     "execution_count": 65,
     "metadata": {},
     "output_type": "execute_result"
    }
   ],
   "source": [
    "# create table Flight\n",
    "sql_tb_flight  = '''\n",
    "        CREATE TABLE Flight (\n",
    "        flight_id VARCHAR(64) PRIMARY KEY,\n",
    "        flight_number VARCHAR(30) NOT NULL,\n",
    "        airline_code VARCHAR(10) NOT NULL,\n",
    "        departure_date DATE,\n",
    "        departure_time TIME,\n",
    "        arrival_date DATE,\n",
    "        arrival_time TIME,\n",
    "        travel_time TIME,\n",
    "        departure_airport VARCHAR(50),\n",
    "        arrival_airport VARCHAR(50),\n",
    "        FOREIGN KEY (airline_code) REFERENCES Airline(IATA) ON DELETE CASCADE,\n",
    "        FOREIGN KEY (departure_airport) REFERENCES Airport(IATA) ON DELETE CASCADE,\n",
    "        FOREIGN KEY (arrival_airport) REFERENCES Airport(IATA) ON DELETE CASCADE\n",
    ")'''\n",
    "cursor.execute(sql_tb_flight)"
   ]
  },
  {
   "cell_type": "code",
   "execution_count": 29,
   "metadata": {},
   "outputs": [
    {
     "data": {
      "text/plain": [
       "6"
      ]
     },
     "execution_count": 29,
     "metadata": {},
     "output_type": "execute_result"
    }
   ],
   "source": [
    "cursor.execute('DROP TABLE IF EXISTS Operate')\n",
    "cursor.execute('show tables')"
   ]
  },
  {
   "cell_type": "code",
   "execution_count": 30,
   "metadata": {},
   "outputs": [
    {
     "data": {
      "text/plain": [
       "0"
      ]
     },
     "execution_count": 30,
     "metadata": {},
     "output_type": "execute_result"
    }
   ],
   "source": [
    "# create table Operate\n",
    "sql_tb_operate  = '''\n",
    "    CREATE TABLE Operate (\n",
    "    airline_IATA VARCHAR(10),\n",
    "    airport_IATA VARCHAR(10),\n",
    "    PRIMARY KEY (airline_IATA, airport_IATA),\n",
    "    FOREIGN KEY (airline_IATA) REFERENCES Airline(IATA),\n",
    "    FOREIGN KEY (airport_IATA) REFERENCES Airport(IATA)\n",
    "\n",
    ")'''\n",
    "cursor.execute(sql_tb_operate)"
   ]
  },
  {
   "cell_type": "code",
   "execution_count": 25,
   "metadata": {},
   "outputs": [],
   "source": [
    "conn.close()"
   ]
  },
  {
   "cell_type": "markdown",
   "metadata": {},
   "source": [
    "### Insert values into table Airline"
   ]
  },
  {
   "cell_type": "code",
   "execution_count": 31,
   "metadata": {},
   "outputs": [
    {
     "data": {
      "text/html": [
       "<div>\n",
       "<style scoped>\n",
       "    .dataframe tbody tr th:only-of-type {\n",
       "        vertical-align: middle;\n",
       "    }\n",
       "\n",
       "    .dataframe tbody tr th {\n",
       "        vertical-align: top;\n",
       "    }\n",
       "\n",
       "    .dataframe thead th {\n",
       "        text-align: right;\n",
       "    }\n",
       "</style>\n",
       "<table border=\"1\" class=\"dataframe\">\n",
       "  <thead>\n",
       "    <tr style=\"text-align: right;\">\n",
       "      <th></th>\n",
       "      <th>AIRLINE NAME</th>\n",
       "      <th>IATA DESIGNATOR</th>\n",
       "      <th>3 DIGIT CODE</th>\n",
       "      <th>ICAO CODE</th>\n",
       "      <th>COUNTRY / TERRITORY</th>\n",
       "    </tr>\n",
       "  </thead>\n",
       "  <tbody>\n",
       "    <tr>\n",
       "      <th>0</th>\n",
       "      <td>ABX Air</td>\n",
       "      <td>GB</td>\n",
       "      <td>832</td>\n",
       "      <td>ABX</td>\n",
       "      <td>United States</td>\n",
       "    </tr>\n",
       "    <tr>\n",
       "      <th>1</th>\n",
       "      <td>Aegean Airlines</td>\n",
       "      <td>A3</td>\n",
       "      <td>390</td>\n",
       "      <td>AEE</td>\n",
       "      <td>Greece</td>\n",
       "    </tr>\n",
       "    <tr>\n",
       "      <th>2</th>\n",
       "      <td>Aer Lingus</td>\n",
       "      <td>EI</td>\n",
       "      <td>053</td>\n",
       "      <td>EIN</td>\n",
       "      <td>Ireland</td>\n",
       "    </tr>\n",
       "    <tr>\n",
       "      <th>3</th>\n",
       "      <td>Aero Republica</td>\n",
       "      <td>P5</td>\n",
       "      <td>845</td>\n",
       "      <td>RPB</td>\n",
       "      <td>Colombia</td>\n",
       "    </tr>\n",
       "    <tr>\n",
       "      <th>4</th>\n",
       "      <td>Aeroflot</td>\n",
       "      <td>SU</td>\n",
       "      <td>555</td>\n",
       "      <td>AFL</td>\n",
       "      <td>Russian Federation</td>\n",
       "    </tr>\n",
       "  </tbody>\n",
       "</table>\n",
       "</div>"
      ],
      "text/plain": [
       "      AIRLINE NAME IATA DESIGNATOR 3 DIGIT CODE ICAO CODE COUNTRY / TERRITORY\n",
       "0          ABX Air              GB          832       ABX       United States\n",
       "1  Aegean Airlines              A3          390       AEE              Greece\n",
       "2       Aer Lingus              EI          053       EIN             Ireland\n",
       "3   Aero Republica              P5          845       RPB            Colombia\n",
       "4         Aeroflot              SU          555       AFL  Russian Federation"
      ]
     },
     "execution_count": 31,
     "metadata": {},
     "output_type": "execute_result"
    }
   ],
   "source": [
    "df = pd.read_csv(\"E:\\\\UIUC\\\\CS411 Database Systems\\\\fa22-cs411-A-team047-Pepsi\\data\\\\airline_IATA.txt\", sep=\"\\t\", header=None, \n",
    "                 names=[\"AIRLINE NAME\", \"IATA DESIGNATOR\", \"3 DIGIT CODE\", \"ICAO CODE\", \"COUNTRY / TERRITORY\"])\n",
    "df.head()"
   ]
  },
  {
   "cell_type": "code",
   "execution_count": 32,
   "metadata": {},
   "outputs": [],
   "source": [
    "# remove duplicated vale \"LH\"\n",
    "LH_index = df['IATA DESIGNATOR']==\"LH\"\n",
    "df.drop(index = [190],inplace = True)"
   ]
  },
  {
   "cell_type": "code",
   "execution_count": 34,
   "metadata": {},
   "outputs": [],
   "source": [
    "# to csv\n",
    "df.to_csv('./airline.csv')"
   ]
  },
  {
   "cell_type": "code",
   "execution_count": 51,
   "metadata": {},
   "outputs": [
    {
     "data": {
      "text/html": [
       "<div>\n",
       "<style scoped>\n",
       "    .dataframe tbody tr th:only-of-type {\n",
       "        vertical-align: middle;\n",
       "    }\n",
       "\n",
       "    .dataframe tbody tr th {\n",
       "        vertical-align: top;\n",
       "    }\n",
       "\n",
       "    .dataframe thead th {\n",
       "        text-align: right;\n",
       "    }\n",
       "</style>\n",
       "<table border=\"1\" class=\"dataframe\">\n",
       "  <thead>\n",
       "    <tr style=\"text-align: right;\">\n",
       "      <th></th>\n",
       "      <th>AIRLINE NAME</th>\n",
       "      <th>IATA DESIGNATOR</th>\n",
       "      <th>3 DIGIT CODE</th>\n",
       "      <th>ICAO CODE</th>\n",
       "      <th>COUNTRY / TERRITORY</th>\n",
       "    </tr>\n",
       "  </thead>\n",
       "  <tbody>\n",
       "    <tr>\n",
       "      <th>141</th>\n",
       "      <td>German Airways</td>\n",
       "      <td>ZQ</td>\n",
       "      <td>944</td>\n",
       "      <td>GER</td>\n",
       "      <td>Germany</td>\n",
       "    </tr>\n",
       "  </tbody>\n",
       "</table>\n",
       "</div>"
      ],
      "text/plain": [
       "       AIRLINE NAME IATA DESIGNATOR 3 DIGIT CODE ICAO CODE COUNTRY / TERRITORY\n",
       "141  German Airways              ZQ          944       GER             Germany"
      ]
     },
     "execution_count": 51,
     "metadata": {},
     "output_type": "execute_result"
    }
   ],
   "source": [
    "df[df[\"IATA DESIGNATOR\"]==\"ZQ\"]"
   ]
  },
  {
   "cell_type": "code",
   "execution_count": 58,
   "metadata": {},
   "outputs": [
    {
     "data": {
      "text/plain": [
       "(296, 5)"
      ]
     },
     "execution_count": 58,
     "metadata": {},
     "output_type": "execute_result"
    }
   ],
   "source": [
    "df.shape"
   ]
  },
  {
   "cell_type": "code",
   "execution_count": 52,
   "metadata": {},
   "outputs": [
    {
     "data": {
      "text/html": [
       "<div>\n",
       "<style scoped>\n",
       "    .dataframe tbody tr th:only-of-type {\n",
       "        vertical-align: middle;\n",
       "    }\n",
       "\n",
       "    .dataframe tbody tr th {\n",
       "        vertical-align: top;\n",
       "    }\n",
       "\n",
       "    .dataframe thead th {\n",
       "        text-align: right;\n",
       "    }\n",
       "</style>\n",
       "<table border=\"1\" class=\"dataframe\">\n",
       "  <thead>\n",
       "    <tr style=\"text-align: right;\">\n",
       "      <th></th>\n",
       "      <th>AIRLINE NAME</th>\n",
       "      <th>IATA DESIGNATOR</th>\n",
       "      <th>3 DIGIT CODE</th>\n",
       "      <th>ICAO CODE</th>\n",
       "      <th>COUNTRY / TERRITORY</th>\n",
       "    </tr>\n",
       "  </thead>\n",
       "  <tbody>\n",
       "    <tr>\n",
       "      <th>135</th>\n",
       "      <td>FLYONE</td>\n",
       "      <td>5F</td>\n",
       "      <td>130</td>\n",
       "      <td>FIA</td>\n",
       "      <td>Moldova, Republic of</td>\n",
       "    </tr>\n",
       "    <tr>\n",
       "      <th>136</th>\n",
       "      <td>Freebird Airlines</td>\n",
       "      <td>FH</td>\n",
       "      <td>None</td>\n",
       "      <td>FHY</td>\n",
       "      <td>Turkey</td>\n",
       "    </tr>\n",
       "    <tr>\n",
       "      <th>137</th>\n",
       "      <td>French Bee</td>\n",
       "      <td>BF</td>\n",
       "      <td>396</td>\n",
       "      <td>FBU</td>\n",
       "      <td>France</td>\n",
       "    </tr>\n",
       "    <tr>\n",
       "      <th>138</th>\n",
       "      <td>Fuzhou Airlines</td>\n",
       "      <td>FU</td>\n",
       "      <td>666</td>\n",
       "      <td>FZA</td>\n",
       "      <td>China (People's Republic of)</td>\n",
       "    </tr>\n",
       "    <tr>\n",
       "      <th>139</th>\n",
       "      <td>Garuda Indonesia</td>\n",
       "      <td>GA</td>\n",
       "      <td>126</td>\n",
       "      <td>GIA</td>\n",
       "      <td>Indonesia</td>\n",
       "    </tr>\n",
       "    <tr>\n",
       "      <th>140</th>\n",
       "      <td>Georgian Airways</td>\n",
       "      <td>A9</td>\n",
       "      <td>606</td>\n",
       "      <td>TGZ</td>\n",
       "      <td>Georgia</td>\n",
       "    </tr>\n",
       "    <tr>\n",
       "      <th>141</th>\n",
       "      <td>German Airways</td>\n",
       "      <td>ZQ</td>\n",
       "      <td>944</td>\n",
       "      <td>GER</td>\n",
       "      <td>Germany</td>\n",
       "    </tr>\n",
       "    <tr>\n",
       "      <th>142</th>\n",
       "      <td>GOL Linhas Aereas</td>\n",
       "      <td>G3</td>\n",
       "      <td>127</td>\n",
       "      <td>GLO</td>\n",
       "      <td>Brazil</td>\n",
       "    </tr>\n",
       "    <tr>\n",
       "      <th>143</th>\n",
       "      <td>Gulf Air</td>\n",
       "      <td>GF</td>\n",
       "      <td>072</td>\n",
       "      <td>GFA</td>\n",
       "      <td>Bahrain</td>\n",
       "    </tr>\n",
       "    <tr>\n",
       "      <th>144</th>\n",
       "      <td>GX Airlines</td>\n",
       "      <td>GX</td>\n",
       "      <td>872</td>\n",
       "      <td>CBG</td>\n",
       "      <td>China (People's Republic of)</td>\n",
       "    </tr>\n",
       "    <tr>\n",
       "      <th>145</th>\n",
       "      <td>Hahn Air</td>\n",
       "      <td>HR*</td>\n",
       "      <td>169</td>\n",
       "      <td>HHN</td>\n",
       "      <td>Germany</td>\n",
       "    </tr>\n",
       "    <tr>\n",
       "      <th>146</th>\n",
       "      <td>Hainan Airlines</td>\n",
       "      <td>HU</td>\n",
       "      <td>880</td>\n",
       "      <td>CHH</td>\n",
       "      <td>China (People's Republic of)</td>\n",
       "    </tr>\n",
       "    <tr>\n",
       "      <th>147</th>\n",
       "      <td>Hawaiian Airlines</td>\n",
       "      <td>HA</td>\n",
       "      <td>173</td>\n",
       "      <td>HAL</td>\n",
       "      <td>United States</td>\n",
       "    </tr>\n",
       "    <tr>\n",
       "      <th>148</th>\n",
       "      <td>Hebei Airlines</td>\n",
       "      <td>NS</td>\n",
       "      <td>836</td>\n",
       "      <td>HBH</td>\n",
       "      <td>China (People's Republic of)</td>\n",
       "    </tr>\n",
       "    <tr>\n",
       "      <th>149</th>\n",
       "      <td>Hi Fly</td>\n",
       "      <td>5K</td>\n",
       "      <td>NaN</td>\n",
       "      <td>HFY</td>\n",
       "      <td>Portugal</td>\n",
       "    </tr>\n",
       "  </tbody>\n",
       "</table>\n",
       "</div>"
      ],
      "text/plain": [
       "          AIRLINE NAME IATA DESIGNATOR 3 DIGIT CODE ICAO CODE  \\\n",
       "135             FLYONE              5F          130       FIA   \n",
       "136  Freebird Airlines              FH         None       FHY   \n",
       "137         French Bee              BF          396       FBU   \n",
       "138    Fuzhou Airlines              FU          666       FZA   \n",
       "139   Garuda Indonesia              GA          126       GIA   \n",
       "140   Georgian Airways              A9          606       TGZ   \n",
       "141     German Airways              ZQ          944       GER   \n",
       "142  GOL Linhas Aereas              G3          127       GLO   \n",
       "143           Gulf Air              GF          072       GFA   \n",
       "144        GX Airlines              GX          872       CBG   \n",
       "145           Hahn Air             HR*          169       HHN   \n",
       "146    Hainan Airlines              HU          880       CHH   \n",
       "147  Hawaiian Airlines              HA          173       HAL   \n",
       "148     Hebei Airlines              NS          836       HBH   \n",
       "149             Hi Fly              5K          NaN       HFY   \n",
       "\n",
       "              COUNTRY / TERRITORY  \n",
       "135          Moldova, Republic of  \n",
       "136                        Turkey  \n",
       "137                        France  \n",
       "138  China (People's Republic of)  \n",
       "139                     Indonesia  \n",
       "140                       Georgia  \n",
       "141                       Germany  \n",
       "142                        Brazil  \n",
       "143                       Bahrain  \n",
       "144  China (People's Republic of)  \n",
       "145                       Germany  \n",
       "146  China (People's Republic of)  \n",
       "147                 United States  \n",
       "148  China (People's Republic of)  \n",
       "149                      Portugal  "
      ]
     },
     "execution_count": 52,
     "metadata": {},
     "output_type": "execute_result"
    }
   ],
   "source": [
    "df[135:150]"
   ]
  },
  {
   "cell_type": "code",
   "execution_count": null,
   "metadata": {},
   "outputs": [],
   "source": [
    "# Insert DataFrame recrds one by one.\n",
    "for i,row in df.iterrows():\n",
    "    IATA = row['IATA DESIGNATOR']\n",
    "    airline_name = row['AIRLINE NAME']\n",
    "    sql = '''INSERT INTO Airline VALUES ('%s','%s')'''%(IATA, airline_name)\n",
    "    cursor.execute(sql)\n",
    "\n",
    "    # the connection is not autocommitted by default, so we must commit to save our changes\n",
    "    conn.commit()\n",
    "conn.close()"
   ]
  },
  {
   "cell_type": "code",
   "execution_count": 58,
   "metadata": {},
   "outputs": [
    {
     "data": {
      "text/html": [
       "<div>\n",
       "<style scoped>\n",
       "    .dataframe tbody tr th:only-of-type {\n",
       "        vertical-align: middle;\n",
       "    }\n",
       "\n",
       "    .dataframe tbody tr th {\n",
       "        vertical-align: top;\n",
       "    }\n",
       "\n",
       "    .dataframe thead th {\n",
       "        text-align: right;\n",
       "    }\n",
       "</style>\n",
       "<table border=\"1\" class=\"dataframe\">\n",
       "  <thead>\n",
       "    <tr style=\"text-align: right;\">\n",
       "      <th></th>\n",
       "      <th>flight_id</th>\n",
       "      <th>flight_number</th>\n",
       "      <th>airline_code</th>\n",
       "      <th>departure_date</th>\n",
       "      <th>departure_time</th>\n",
       "      <th>arrival_date</th>\n",
       "      <th>arrival_time</th>\n",
       "      <th>travel_time</th>\n",
       "      <th>departure_airport</th>\n",
       "      <th>arrival_airport</th>\n",
       "    </tr>\n",
       "  </thead>\n",
       "  <tbody>\n",
       "    <tr>\n",
       "      <th>0</th>\n",
       "      <td>c45645fc442926434e54d4ad71966a4f7cd2420ccf7a8f...</td>\n",
       "      <td>NK 1024</td>\n",
       "      <td>NK</td>\n",
       "      <td>2022-10-21</td>\n",
       "      <td>21:59</td>\n",
       "      <td>2022-10-22</td>\n",
       "      <td>00:39</td>\n",
       "      <td>4:40:00</td>\n",
       "      <td>ORD</td>\n",
       "      <td>LAX</td>\n",
       "    </tr>\n",
       "    <tr>\n",
       "      <th>1</th>\n",
       "      <td>909459dcc544dec6216b232c0426e4e5dba71aae70214e...</td>\n",
       "      <td>UA 758</td>\n",
       "      <td>UA</td>\n",
       "      <td>2022-10-21</td>\n",
       "      <td>10:35</td>\n",
       "      <td>2022-10-21</td>\n",
       "      <td>13:00</td>\n",
       "      <td>4:25:00</td>\n",
       "      <td>ORD</td>\n",
       "      <td>LAX</td>\n",
       "    </tr>\n",
       "    <tr>\n",
       "      <th>2</th>\n",
       "      <td>9cd975325830680a6189efaa693a96c3fed69433d69ddb...</td>\n",
       "      <td>AA 2364</td>\n",
       "      <td>AA</td>\n",
       "      <td>2022-10-21</td>\n",
       "      <td>17:00</td>\n",
       "      <td>2022-10-21</td>\n",
       "      <td>19:16</td>\n",
       "      <td>4:16:00</td>\n",
       "      <td>ORD</td>\n",
       "      <td>LAX</td>\n",
       "    </tr>\n",
       "    <tr>\n",
       "      <th>3</th>\n",
       "      <td>5c690cbaed69c4ac2b03b1fe10aa91a9b0eb0b4ba84c3f...</td>\n",
       "      <td>WN 1766</td>\n",
       "      <td>WN</td>\n",
       "      <td>2022-10-21</td>\n",
       "      <td>12:25</td>\n",
       "      <td>2022-10-21</td>\n",
       "      <td>14:50</td>\n",
       "      <td>4:25:00</td>\n",
       "      <td>MDW</td>\n",
       "      <td>LAX</td>\n",
       "    </tr>\n",
       "    <tr>\n",
       "      <th>4</th>\n",
       "      <td>dfb9db781edd1b288b42cf5c7a15c833d94381f4328148...</td>\n",
       "      <td>UA 2676</td>\n",
       "      <td>UA</td>\n",
       "      <td>2022-10-21</td>\n",
       "      <td>14:12</td>\n",
       "      <td>2022-10-21</td>\n",
       "      <td>16:43</td>\n",
       "      <td>4:31:00</td>\n",
       "      <td>ORD</td>\n",
       "      <td>LAX</td>\n",
       "    </tr>\n",
       "  </tbody>\n",
       "</table>\n",
       "</div>"
      ],
      "text/plain": [
       "                                           flight_id flight_number  \\\n",
       "0  c45645fc442926434e54d4ad71966a4f7cd2420ccf7a8f...       NK 1024   \n",
       "1  909459dcc544dec6216b232c0426e4e5dba71aae70214e...        UA 758   \n",
       "2  9cd975325830680a6189efaa693a96c3fed69433d69ddb...       AA 2364   \n",
       "3  5c690cbaed69c4ac2b03b1fe10aa91a9b0eb0b4ba84c3f...       WN 1766   \n",
       "4  dfb9db781edd1b288b42cf5c7a15c833d94381f4328148...       UA 2676   \n",
       "\n",
       "  airline_code departure_date departure_time arrival_date arrival_time  \\\n",
       "0           NK     2022-10-21          21:59   2022-10-22        00:39   \n",
       "1           UA     2022-10-21          10:35   2022-10-21        13:00   \n",
       "2           AA     2022-10-21          17:00   2022-10-21        19:16   \n",
       "3           WN     2022-10-21          12:25   2022-10-21        14:50   \n",
       "4           UA     2022-10-21          14:12   2022-10-21        16:43   \n",
       "\n",
       "  travel_time departure_airport arrival_airport  \n",
       "0     4:40:00               ORD             LAX  \n",
       "1     4:25:00               ORD             LAX  \n",
       "2     4:16:00               ORD             LAX  \n",
       "3     4:25:00               MDW             LAX  \n",
       "4     4:31:00               ORD             LAX  "
      ]
     },
     "execution_count": 58,
     "metadata": {},
     "output_type": "execute_result"
    }
   ],
   "source": [
    "# change mm-dd-yyyy to yyyy-mm-dd in flight csv\n",
    "flight = pd.read_csv(\"E:\\\\UIUC\\\\CS411 Database Systems\\\\fa22-cs411-A-team047-Pepsi\\\\data\\\\flight.csv\")\n",
    "flight.head()"
   ]
  },
  {
   "cell_type": "code",
   "execution_count": null,
   "metadata": {},
   "outputs": [],
   "source": []
  },
  {
   "cell_type": "code",
   "execution_count": 59,
   "metadata": {},
   "outputs": [],
   "source": [
    "flight = flight.drop_duplicates(subset='flight_id')"
   ]
  },
  {
   "cell_type": "code",
   "execution_count": 61,
   "metadata": {},
   "outputs": [],
   "source": [
    "flight.to_csv('./flight.csv')"
   ]
  }
 ],
 "metadata": {
  "kernelspec": {
   "display_name": "Python 3.10.7 64-bit",
   "language": "python",
   "name": "python3"
  },
  "language_info": {
   "codemirror_mode": {
    "name": "ipython",
    "version": 3
   },
   "file_extension": ".py",
   "mimetype": "text/x-python",
   "name": "python",
   "nbconvert_exporter": "python",
   "pygments_lexer": "ipython3",
   "version": "3.10.7"
  },
  "orig_nbformat": 4,
  "vscode": {
   "interpreter": {
    "hash": "8b545eb58cca9149a46c685ad4df3fdfb5ac9b8fddecd3db67ac43427a57b977"
   }
  }
 },
 "nbformat": 4,
 "nbformat_minor": 2
}
